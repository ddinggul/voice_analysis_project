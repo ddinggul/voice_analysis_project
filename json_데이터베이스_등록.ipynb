{
 "cells": [
  {
   "cell_type": "code",
   "id": "initial_id",
   "metadata": {
    "collapsed": true,
    "ExecuteTime": {
     "end_time": "2024-12-11T13:10:07.351782Z",
     "start_time": "2024-12-11T13:10:06.599820Z"
    }
   },
   "source": [
    "# 1단계: MariaDB 연결 및 기본 설정\n",
    "!pip install mysql-connector-python"
   ],
   "outputs": [
    {
     "name": "stdout",
     "output_type": "stream",
     "text": [
      "Requirement already satisfied: mysql-connector-python in /opt/anaconda3/envs/MachineLearning/lib/python3.11/site-packages (9.1.0)\r\n"
     ]
    }
   ],
   "execution_count": 1
  },
  {
   "metadata": {
    "ExecuteTime": {
     "end_time": "2024-12-24T11:45:10.927907Z",
     "start_time": "2024-12-24T11:45:09.316253Z"
    }
   },
   "cell_type": "code",
   "source": [
    "import mysql.connector\n",
    "\n",
    "# 데이터베이스 연결 설정\n",
    "db_config = {\n",
    "    'host': '*********',  # NAS IP 주소\n",
    "    'user': 'junseo',        # MariaDB 사용자 이름\n",
    "    'password': '*********',  # MariaDB 비밀번호\n",
    "    'database': 'PronounceDB'     # 데이터베이스 이름\n",
    "}\n",
    "\n",
    "# 데이터베이스 연결 테스트\n",
    "try:\n",
    "    conn = mysql.connector.connect(**db_config)  # MariaDB 연결\n",
    "    print(\"MariaDB 연결 성공!\")\n",
    "except mysql.connector.Error as err:\n",
    "    print(f\"MariaDB 연결 실패: {err}\")\n",
    "    conn = None"
   ],
   "id": "d309aded63212b38",
   "outputs": [
    {
     "name": "stdout",
     "output_type": "stream",
     "text": [
      "MariaDB 연결 성공!\n"
     ]
    }
   ],
   "execution_count": 37
  },
  {
   "metadata": {
    "ExecuteTime": {
     "end_time": "2024-12-23T13:09:50.952199Z",
     "start_time": "2024-12-23T13:05:54.038553Z"
    }
   },
   "cell_type": "code",
   "source": [
    "import os\n",
    "from tqdm import tqdm\n",
    "\n",
    "# NAS 공유 폴더 경로\n",
    "nas_folder_path = \"/Volumes/준서/ML용 데이터/037.교육용 한국인의 영어 음성 데이터/01-1.정식개방데이터/Training/02.라벨링데이터/TS_PRN_en_NA_NA\"\n",
    "\n",
    "# 모든 하위 디렉토리의 JSON 파일 찾기\n",
    "def find_all_json_files(root_folder):\n",
    "    json_files = []\n",
    "    total_files = sum(len(files) for _, _, files in os.walk(root_folder))  # 전체 파일 개수 계산\n",
    "    progress_bar = tqdm(total=total_files, desc=\"JSON 파일 탐색 중\")  # 프로그레스 바 생성\n",
    "\n",
    "    for dirpath, _, filenames in os.walk(root_folder):\n",
    "        for file in filenames:\n",
    "            progress_bar.update(1)  # 파일 탐색 진행 상태 업데이트\n",
    "            if file.endswith(\".json\"):\n",
    "                json_files.append(os.path.join(dirpath, file))\n",
    "\n",
    "    progress_bar.close()\n",
    "    print(f\"탐색 완료! 총 {len(json_files)}개의 JSON 파일 발견\")\n",
    "    return json_files\n",
    "\n",
    "# JSON 파일 탐색 실행\n",
    "json_files = find_all_json_files(nas_folder_path)"
   ],
   "id": "7f8b8ca7f29ab2a",
   "outputs": [
    {
     "name": "stderr",
     "output_type": "stream",
     "text": [
      "JSON 파일 탐색 중: 100%|██████████| 21716/21716 [00:46<00:00, 470.84it/s]"
     ]
    },
    {
     "name": "stdout",
     "output_type": "stream",
     "text": [
      "탐색 완료! 총 21716개의 JSON 파일 발견\n"
     ]
    },
    {
     "name": "stderr",
     "output_type": "stream",
     "text": [
      "\n"
     ]
    }
   ],
   "execution_count": 4
  },
  {
   "metadata": {
    "ExecuteTime": {
     "end_time": "2024-12-23T14:33:23.829691Z",
     "start_time": "2024-12-23T14:33:05.335118Z"
    }
   },
   "cell_type": "code",
   "source": [
    "# 테이블 생성 쿼리 목록\n",
    "TABLE_CREATION_QUERIES = [\n",
    "    (\"MetaData\", \"\"\"\n",
    "    CREATE TABLE IF NOT EXISTS MetaData (\n",
    "        id INT AUTO_INCREMENT PRIMARY KEY,\n",
    "        recrdDt DATE NOT NULL,\n",
    "        recrdTime FLOAT NOT NULL,\n",
    "        fileNm VARCHAR(255) NOT NULL,\n",
    "        recrdPlace VARCHAR(50),\n",
    "        recrdDevice VARCHAR(50),\n",
    "        peakLevel FLOAT,\n",
    "        rmsLevel FLOAT\n",
    "    );\n",
    "    \"\"\"),\n",
    "    (\"Recorder\", \"\"\"\n",
    "    CREATE TABLE IF NOT EXISTS Recorder (\n",
    "        id INT AUTO_INCREMENT PRIMARY KEY,\n",
    "        recorderId INT NOT NULL,\n",
    "        motherLang VARCHAR(50),\n",
    "        gender CHAR(1),\n",
    "        age INT,\n",
    "        ability VARCHAR(50),\n",
    "        metaDataId INT,\n",
    "        FOREIGN KEY (metaDataId) REFERENCES MetaData(id)\n",
    "    );\n",
    "    \"\"\"),\n",
    "    (\"ScriptInfo\", \"\"\"\n",
    "    CREATE TABLE IF NOT EXISTS ScriptInfo (\n",
    "        id INT AUTO_INCREMENT PRIMARY KEY,\n",
    "        scriptName VARCHAR(100),\n",
    "        scriptId VARCHAR(100),\n",
    "        language VARCHAR(50),\n",
    "        evaluationArea VARCHAR(50),\n",
    "        metaDataId INT,\n",
    "        FOREIGN KEY (metaDataId) REFERENCES MetaData(id)\n",
    "    );\n",
    "    \"\"\"),\n",
    "    (\"ItemScript\", \"\"\"\n",
    "    CREATE TABLE IF NOT EXISTS ItemScript (\n",
    "        id INT AUTO_INCREMENT PRIMARY KEY,\n",
    "        sentence TEXT,\n",
    "        sttText TEXT,\n",
    "        transAnsw TEXT,\n",
    "        phonemeText TEXT,\n",
    "        tagging TEXT,\n",
    "        scriptInfoId INT,\n",
    "        FOREIGN KEY (scriptInfoId) REFERENCES ScriptInfo(id)\n",
    "    );\n",
    "    \"\"\"),\n",
    "    (\"PronFeatures\", \"\"\"\n",
    "    CREATE TABLE IF NOT EXISTS PronFeatures (\n",
    "        id INT AUTO_INCREMENT PRIMARY KEY,\n",
    "        ros FLOAT,\n",
    "        ar FLOAT,\n",
    "        ptr FLOAT,\n",
    "        wpsec FLOAT,\n",
    "        wpsecutt FLOAT,\n",
    "        silpsec FLOAT,\n",
    "        silmean FLOAT,\n",
    "        silmeandev FLOAT,\n",
    "        longpfreq FLOAT,\n",
    "        longpmn FLOAT,\n",
    "        longpwd FLOAT,\n",
    "        longpmeandev FLOAT,\n",
    "        silstddev FLOAT,\n",
    "        longpstdev FLOAT,\n",
    "        metaDataId INT,\n",
    "        FOREIGN KEY (metaDataId) REFERENCES MetaData(id)\n",
    "    );\n",
    "    \"\"\"\n",
    "    )\n",
    "]\n",
    "\n",
    "# 테이블 생성 함수\n",
    "def create_tables():\n",
    "    try:\n",
    "        # 데이터베이스 연결\n",
    "        conn = mysql.connector.connect(**db_config)\n",
    "        cursor = conn.cursor()\n",
    "\n",
    "        # 각 테이블 생성\n",
    "        for table_name, query in TABLE_CREATION_QUERIES:\n",
    "            cursor.execute(query)\n",
    "            print(f\"테이블 '{table_name}' 생성 완료\")\n",
    "\n",
    "        conn.commit()\n",
    "        print(\"모든 테이블 생성 성공!\")\n",
    "\n",
    "    except mysql.connector.Error as err:\n",
    "        print(f\"에러 발생: {err}\")\n",
    "\n",
    "    finally:\n",
    "        # 연결 닫기\n",
    "        if 'conn' in locals() and conn.is_connected():\n",
    "            cursor.close()\n",
    "            conn.close()\n",
    "            print(\"MariaDB 연결 종료\")\n",
    "\n",
    "# 실행\n",
    "if __name__ == \"__main__\":\n",
    "    create_tables()"
   ],
   "id": "38988c3cf5adf5b1",
   "outputs": [
    {
     "name": "stdout",
     "output_type": "stream",
     "text": [
      "테이블 'MetaData' 생성 완료\n",
      "테이블 'Recorder' 생성 완료\n",
      "테이블 'ScriptInfo' 생성 완료\n",
      "테이블 'ItemScript' 생성 완료\n",
      "테이블 'PronFeatures' 생성 완료\n",
      "모든 테이블 생성 성공!\n",
      "MariaDB 연결 종료\n"
     ]
    }
   ],
   "execution_count": 34
  },
  {
   "metadata": {
    "ExecuteTime": {
     "end_time": "2024-12-23T14:33:27.602754Z",
     "start_time": "2024-12-23T14:33:27.596153Z"
    }
   },
   "cell_type": "code",
   "source": [
    "def insert_data_to_db(json_data, conn):\n",
    "    try:\n",
    "        cursor = conn.cursor()\n",
    "\n",
    "        # MetaData 삽입\n",
    "        meta_query = \"\"\"\n",
    "        INSERT INTO MetaData (recrdDt, recrdTime, fileNm, recrdPlace, recrdDevice, peakLevel, rmsLevel)\n",
    "        VALUES (%s, %s, %s, %s, %s, %s, %s)\n",
    "        \"\"\"\n",
    "        meta_values = (\n",
    "            json_data.get('recrdDt'),\n",
    "            json_data.get('recrdTime'),\n",
    "            json_data.get('fileNm'),\n",
    "            json_data.get('recrdPlace'),\n",
    "            json_data.get('recrdDevice'),\n",
    "            json_data.get('peakLevel'),\n",
    "            json_data.get('rmsLevel')\n",
    "        )\n",
    "        cursor.execute(meta_query, meta_values)\n",
    "        metaDataId = cursor.lastrowid  # MetaData ID 가져오기\n",
    "\n",
    "        # Recorder 삽입\n",
    "        recorder = json_data.get('recorder', {})\n",
    "        recorder_query = \"\"\"\n",
    "        INSERT INTO Recorder (recorderId, motherLang, gender, age, ability, metaDataId)\n",
    "        VALUES (%s, %s, %s, %s, %s, %s)\n",
    "        \"\"\"\n",
    "        recorder_values = (\n",
    "            recorder.get('recorderId'),\n",
    "            recorder.get('motherLang'),\n",
    "            recorder.get('gender'),\n",
    "            recorder.get('age'),\n",
    "            recorder.get('ability'),\n",
    "            metaDataId\n",
    "        )\n",
    "        cursor.execute(recorder_query, recorder_values)\n",
    "\n",
    "        # ScriptInfo 삽입\n",
    "        script_info = json_data.get('scriptInfo', {})\n",
    "        script_query = \"\"\"\n",
    "        INSERT INTO ScriptInfo (scriptName, scriptId, language, evaluationArea, metaDataId)\n",
    "        VALUES (%s, %s, %s, %s, %s)\n",
    "        \"\"\"\n",
    "        script_values = (\n",
    "            script_info.get('scriptName'),\n",
    "            script_info.get('scriptId'),\n",
    "            script_info.get('language'),\n",
    "            script_info.get('evaluationArea'),\n",
    "            metaDataId\n",
    "        )\n",
    "        cursor.execute(script_query, script_values)\n",
    "        scriptInfoId = cursor.lastrowid  # ScriptInfo ID 가져오기\n",
    "\n",
    "        # ItemScript 삽입\n",
    "        item_script = json_data.get('itemScript', {}).get('contents', [])\n",
    "        item_query = \"\"\"\n",
    "        INSERT INTO ItemScript (sentence, sttText, transAnsw, phonemeText, tagging, scriptInfoId)\n",
    "        VALUES (%s, %s, %s, %s, %s, %s)\n",
    "        \"\"\"\n",
    "        for item in item_script:\n",
    "            item_values = (\n",
    "                item.get('sentence'),\n",
    "                item.get('sttText'),\n",
    "                item.get('transAnsw'),\n",
    "                item.get('phonemeText'),\n",
    "                item.get('tagging'),\n",
    "                scriptInfoId\n",
    "            )\n",
    "            cursor.execute(item_query, item_values)\n",
    "\n",
    "        # PronFeatures 삽입\n",
    "        pron_feat = json_data.get('pronFeat', {})\n",
    "        pron_query = \"\"\"\n",
    "        INSERT INTO PronFeatures (ros, ar, ptr, wpsec, wpsecutt, silpsec, silmean, silmeandev, longpfreq, longpmn, longpwd, longpmeandev, silstddev, longpstdev, metaDataId)\n",
    "        VALUES (%s, %s, %s, %s, %s, %s, %s, %s, %s, %s, %s, %s, %s, %s, %s)\n",
    "        \"\"\"\n",
    "        pron_values = (\n",
    "            pron_feat.get('ros'),\n",
    "            pron_feat.get('ar'),\n",
    "            pron_feat.get('ptr'),\n",
    "            pron_feat.get('wpsec'),\n",
    "            pron_feat.get('wpsecutt'),\n",
    "            pron_feat.get('silpsec'),\n",
    "            pron_feat.get('silmean'),\n",
    "            pron_feat.get('silmeandev'),\n",
    "            pron_feat.get('longpfreq'),\n",
    "            pron_feat.get('longpmn'),\n",
    "            pron_feat.get('longpwd'),\n",
    "            pron_feat.get('longpmeandev'),\n",
    "            pron_feat.get('silstddev'),\n",
    "            pron_feat.get('longpstdev'),\n",
    "            metaDataId\n",
    "        )\n",
    "        cursor.execute(pron_query, pron_values)\n",
    "\n",
    "        # 트랜잭션 커밋\n",
    "        conn.commit()\n",
    "\n",
    "    except mysql.connector.Error as e:\n",
    "        print(f\"SQL 실행 중 에러 발생: {e}\")\n",
    "        conn.rollback()\n",
    "    finally:\n",
    "        cursor.close()\n"
   ],
   "id": "53ef2d89a31784cf",
   "outputs": [],
   "execution_count": 35
  },
  {
   "metadata": {
    "ExecuteTime": {
     "end_time": "2024-12-23T13:49:57.573273Z",
     "start_time": "2024-12-23T13:49:57.571165Z"
    }
   },
   "cell_type": "code",
   "source": "import json",
   "id": "61f74c7850cba8f9",
   "outputs": [],
   "execution_count": 25
  },
  {
   "metadata": {
    "ExecuteTime": {
     "end_time": "2024-12-23T19:03:47.234070Z",
     "start_time": "2024-12-23T14:33:32.894408Z"
    }
   },
   "cell_type": "code",
   "source": [
    "def process_json_files(json_files, conn):\n",
    "    # tqdm 프로그레스바 생성\n",
    "    with tqdm(total=len(json_files), desc=\"JSON 데이터 삽입 중\", unit=\"file\") as progress_bar:\n",
    "        for file in json_files:\n",
    "            try:\n",
    "                with open(file, 'r', encoding='utf-8-sig') as f:\n",
    "                    json_data = json.load(f)\n",
    "                    insert_data_to_db(json_data, conn)  # 데이터 삽입 함수 호출\n",
    "            except Exception as e:\n",
    "                print(f\"{file} 처리 중 에러 발생: {e}\")\n",
    "            finally:\n",
    "                progress_bar.update(1)  # 프로그레스바 업데이트\n",
    "\n",
    "# 실행\n",
    "try:\n",
    "    conn = mysql.connector.connect(**db_config)\n",
    "    process_json_files(json_files, conn)\n",
    "finally:\n",
    "    if conn.is_connected():\n",
    "        conn.close()"
   ],
   "id": "f1c0c2caef981f65",
   "outputs": [
    {
     "name": "stderr",
     "output_type": "stream",
     "text": [
      "JSON 데이터 삽입 중: 100%|██████████| 21716/21716 [4:30:14<00:00,  1.34file/s]   IOPub data rate exceeded.\n",
      "The Jupyter server will temporarily stop sending output\n",
      "to the client in order to avoid crashing it.\n",
      "To change this limit, set the config variable\n",
      "`--ServerApp.iopub_data_rate_limit`.\n",
      "\n",
      "Current values:\n",
      "ServerApp.iopub_data_rate_limit=1000000.0 (bytes/sec)\n",
      "ServerApp.rate_limit_window=3.0 (secs)\n",
      "\n",
      "\n"
     ]
    }
   ],
   "execution_count": 36
  },
  {
   "metadata": {},
   "cell_type": "code",
   "outputs": [],
   "execution_count": null,
   "source": "",
   "id": "3d4f6bc30ebd8ff1"
  }
 ],
 "metadata": {
  "kernelspec": {
   "display_name": "Python 3",
   "language": "python",
   "name": "python3"
  },
  "language_info": {
   "codemirror_mode": {
    "name": "ipython",
    "version": 2
   },
   "file_extension": ".py",
   "mimetype": "text/x-python",
   "name": "python",
   "nbconvert_exporter": "python",
   "pygments_lexer": "ipython2",
   "version": "2.7.6"
  }
 },
 "nbformat": 4,
 "nbformat_minor": 5
}
